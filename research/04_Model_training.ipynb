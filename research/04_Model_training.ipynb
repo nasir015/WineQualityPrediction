{
 "cells": [
  {
   "cell_type": "code",
   "execution_count": 1,
   "metadata": {},
   "outputs": [],
   "source": [
    "import os"
   ]
  },
  {
   "cell_type": "code",
   "execution_count": 2,
   "metadata": {},
   "outputs": [
    {
     "data": {
      "text/plain": [
       "'e:\\\\Neoron\\\\Programming_Practice\\\\Machine_Learning_Project\\\\winequality_prediction\\\\research'"
      ]
     },
     "execution_count": 2,
     "metadata": {},
     "output_type": "execute_result"
    }
   ],
   "source": [
    "%pwd"
   ]
  },
  {
   "cell_type": "code",
   "execution_count": 3,
   "metadata": {},
   "outputs": [],
   "source": [
    "os.chdir('../')"
   ]
  },
  {
   "cell_type": "code",
   "execution_count": 4,
   "metadata": {},
   "outputs": [
    {
     "data": {
      "text/plain": [
       "'e:\\\\Neoron\\\\Programming_Practice\\\\Machine_Learning_Project\\\\winequality_prediction'"
      ]
     },
     "execution_count": 4,
     "metadata": {},
     "output_type": "execute_result"
    }
   ],
   "source": [
    "%pwd"
   ]
  },
  {
   "cell_type": "code",
   "execution_count": 5,
   "metadata": {},
   "outputs": [],
   "source": [
    "from dataclasses import dataclass\n",
    "from pathlib import Path\n",
    "\n",
    "@dataclass\n",
    "class ModelTrainerConfig:\n",
    "    root_dir: Path\n",
    "    train_data_path: Path\n",
    "    test_data_path: Path\n",
    "    model_name: str\n",
    "    target_column: str"
   ]
  },
  {
   "cell_type": "code",
   "execution_count": 6,
   "metadata": {},
   "outputs": [],
   "source": [
    "from src.WineQualityPrediction.constants import *\n",
    "from src.WineQualityPrediction.utils.common import read_yaml, create_directories\n",
    "from src.WineQualityPrediction.utils.my_logging import logger\n",
    "from src.WineQualityPrediction.utils.my_exception import CustomException"
   ]
  },
  {
   "cell_type": "code",
   "execution_count": 7,
   "metadata": {},
   "outputs": [],
   "source": [
    "class ConfigurationManager:\n",
    "    \"\"\"\n",
    "    Manages the configuration for the project by reading YAML files\n",
    "    and providing structured configurations.\n",
    "\n",
    "    Attributes:\n",
    "        config (ConfigBox): Parsed configuration file.\n",
    "        params (ConfigBox): Parsed parameters file.\n",
    "        schema (ConfigBox): Parsed schema file.\n",
    "    \"\"\"\n",
    "\n",
    "    def __init__(self,\n",
    "                 config_filepath: Path = CONFIG_FILE_PATH,\n",
    "                 params_filepath: Path = PARAMS_FILE_PATH,\n",
    "                 schema_filepath: Path = SCHEMA_FILE_PATH):\n",
    "        \n",
    "        \"\"\"\n",
    "        Initializes the ConfigurationManager by loading YAML files and creating directories.\n",
    "\n",
    "        Args:\n",
    "            config_filepath (Path): Path to the main configuration file.\n",
    "            params_filepath (Path): Path to the parameters configuration file.\n",
    "            schema_filepath (Path): Path to the schema configuration file.\n",
    "        \"\"\"\n",
    "        self.config = read_yaml(config_filepath)\n",
    "        self.params = read_yaml(params_filepath)\n",
    "        self.schema = read_yaml(schema_filepath)\n",
    "\n",
    "        create_directories([self.config.artifacts_root])\n",
    "\n",
    "    def get_model_trainer_config(self) -> ModelTrainerConfig:\n",
    "        \"\"\"\n",
    "        Provides the configuration for the model trainer.\n",
    "\n",
    "        Returns:\n",
    "            ModelTrainerConfig: Configuration for the model trainer.\n",
    "        \"\"\"\n",
    "        config = self.config.model_trainer\n",
    "        param = self.params.ElasticNet\n",
    "        schema = self.schema.TARGET_COLUMN\n",
    "        create_directories([config.root_dir])\n",
    "\n",
    "        model_trainer_config = ModelTrainerConfig(\n",
    "            root_dir=config.root_dir,\n",
    "            train_data_path=config.train_data_path,\n",
    "            test_data_path=config.test_data_path,\n",
    "            model_name=config.model_name,\n",
    "            target_column=schema.name\n",
    "        )\n",
    "        return model_trainer_config"
   ]
  },
  {
   "cell_type": "code",
   "execution_count": 8,
   "metadata": {},
   "outputs": [],
   "source": [
    "log_path = 'log\\log_file.log'"
   ]
  },
  {
   "cell_type": "code",
   "execution_count": 9,
   "metadata": {},
   "outputs": [],
   "source": [
    "import pandas as pd\n",
    "import os\n",
    "import sys\n",
    "import logging\n",
    "from src.WineQualityPrediction.utils.my_logging import logger\n",
    "from src.WineQualityPrediction.utils.my_exception import CustomException\n",
    "from sklearn.linear_model import ElasticNet\n",
    "import joblib"
   ]
  },
  {
   "cell_type": "code",
   "execution_count": 10,
   "metadata": {},
   "outputs": [],
   "source": [
    "class ModelTrainer:\n",
    "    def __init__(self, config: ModelTrainerConfig):\n",
    "        \"\"\"\n",
    "        Initializes the ModelTrainer class with a given configuration.\n",
    "\n",
    "        Parameters:\n",
    "            config (ModelTrainerConfig): An object containing the configuration \n",
    "                                        parameters for training, including paths \n",
    "                                        to datasets, model hyperparameters, and \n",
    "                                        save paths.\n",
    "        \"\"\"\n",
    "        self.config = config\n",
    "\n",
    "    def train(self):\n",
    "        logger(log_path,logging.INFO, \"Training the model Started...\")\n",
    "\n",
    "        \"\"\"\n",
    "        Trains the ElasticNet regression model using the provided configuration.\n",
    "\n",
    "        Steps:\n",
    "            1. Reads training and testing datasets from the specified paths.\n",
    "            2. Separates features (X) and target (Y) from the datasets.\n",
    "            3. Initializes and trains the ElasticNet model with specified hyperparameters.\n",
    "            4. Saves the trained model to the configured directory.\n",
    "\n",
    "        Dependencies:\n",
    "            - pandas (pd): Used to read the CSV datasets.\n",
    "            - sklearn.linear_model.ElasticNet: The regression model used for training.\n",
    "            - joblib: Used for saving the trained model to disk.\n",
    "            - os: Handles file paths for saving the model.\n",
    "\n",
    "        Raises:\n",
    "            FileNotFoundError: If the training or testing data files are not found.\n",
    "            ValueError: If the target column is not present in the datasets.\n",
    "\n",
    "        Notes:\n",
    "            Ensure that the `train_data_path` and `test_data_path` in the configuration point to valid CSV files.\n",
    "            The directory specified by `root_dir` should exist or be created beforehand.\n",
    "        \"\"\"     \n",
    "        logger(log_path,logging.INFO, \"Reading the datasets...\")   \n",
    "        train_data = pd.read_csv(self.config.train_data_path)\n",
    "        test_data = pd.read_csv(self.config.test_data_path)\n",
    "\n",
    "        logger(log_path,logging.INFO, \"Separating features and target...\")\n",
    "        train_x = train_data.drop([self.config.target_column], axis=1)\n",
    "        test_x = test_data.drop([self.config.target_column], axis=1)\n",
    "        train_y = train_data[[self.config.target_column]]\n",
    "        test_y = test_data[[self.config.target_column]]\n",
    "\n",
    "        logger(log_path,logging.INFO, \"strart the model building... \")\n",
    "        logger(log_path,logging.INFO, \"Training the model...\")\n",
    "        lr = ElasticNet(alpha=self.config.alpha, l1_ratio=self.config.l1_ratio, random_state=42)\n",
    "        lr.fit(train_x, train_y)\n",
    "        logger(log_path,logging.INFO, \"Model training completed...\")\n",
    "        logger(log_path,logging.INFO, \"Saving the model...\")\n",
    "        joblib.dump(lr, os.path.join(self.config.root_dir, self.config.model_name))\n",
    "        logger(log_path,logging.INFO, \"Model saved...\")\n"
   ]
  },
  {
   "cell_type": "code",
   "execution_count": 11,
   "metadata": {},
   "outputs": [
    {
     "name": "stderr",
     "output_type": "stream",
     "text": [
      "[2025-01-15 14:48:24] - INFO - Yaml file read successfully\n",
      "[2025-01-15 14:48:24] - INFO - Yaml file read successfully\n",
      "[2025-01-15 14:48:24] - INFO - Yaml file read successfully\n",
      "[2025-01-15 14:48:24] - INFO - Directory created at artifacts\n",
      "[2025-01-15 14:48:24] - INFO - Directory created at artifacts/model_trainer\n",
      "[2025-01-15 14:48:24] - INFO - Training the model Started...\n",
      "[2025-01-15 14:48:24] - INFO - Reading the datasets...\n",
      "[2025-01-15 14:48:25] - INFO - Separating features and target...\n",
      "[2025-01-15 14:48:25] - INFO - strart the model building... \n",
      "[2025-01-15 14:48:25] - INFO - Training the model...\n",
      "[2025-01-15 14:48:25] - INFO - Model training completed...\n",
      "[2025-01-15 14:48:25] - INFO - Saving the model...\n",
      "[2025-01-15 14:48:25] - INFO - Model saved...\n"
     ]
    }
   ],
   "source": [
    "try:\n",
    "    config = ConfigurationManager()\n",
    "    model_trainer_config = config.get_model_trainer_config()\n",
    "    model_trainer = ModelTrainer(config=model_trainer_config)\n",
    "    model_trainer.train()\n",
    "except Exception as e:\n",
    "    raise CustomException(e,sys)"
   ]
  }
 ],
 "metadata": {
  "kernelspec": {
   "display_name": "Python 3",
   "language": "python",
   "name": "python3"
  },
  "language_info": {
   "codemirror_mode": {
    "name": "ipython",
    "version": 3
   },
   "file_extension": ".py",
   "mimetype": "text/x-python",
   "name": "python",
   "nbconvert_exporter": "python",
   "pygments_lexer": "ipython3",
   "version": "3.10.0"
  }
 },
 "nbformat": 4,
 "nbformat_minor": 2
}
