{
 "cells": [
  {
   "cell_type": "code",
   "execution_count": 1,
   "metadata": {},
   "outputs": [],
   "source": [
    "import os"
   ]
  },
  {
   "cell_type": "code",
   "execution_count": 2,
   "metadata": {},
   "outputs": [
    {
     "data": {
      "text/plain": [
       "'e:\\\\Neoron\\\\Programming_Practice\\\\Machine_Learning_Project\\\\winequality_prediction\\\\research'"
      ]
     },
     "execution_count": 2,
     "metadata": {},
     "output_type": "execute_result"
    }
   ],
   "source": [
    "%pwd"
   ]
  },
  {
   "cell_type": "code",
   "execution_count": 3,
   "metadata": {},
   "outputs": [
    {
     "data": {
      "text/plain": [
       "'e:\\\\Neoron\\\\Programming_Practice\\\\Machine_Learning_Project\\\\winequality_prediction'"
      ]
     },
     "execution_count": 3,
     "metadata": {},
     "output_type": "execute_result"
    }
   ],
   "source": [
    "os.chdir('../')\n",
    "%pwd"
   ]
  },
  {
   "cell_type": "code",
   "execution_count": 4,
   "metadata": {},
   "outputs": [],
   "source": [
    "from dataclasses import dataclass\n",
    "from pathlib import Path\n",
    "\n",
    "@dataclass\n",
    "class DataIngestionConfig:\n",
    "    root_dir: Path\n",
    "    source_URL: str\n",
    "    local_data_file: Path\n",
    "    unzip_dir: Path"
   ]
  },
  {
   "cell_type": "code",
   "execution_count": 5,
   "metadata": {},
   "outputs": [],
   "source": [
    "from src.WineQualityPrediction.constants import *\n",
    "from src.WineQualityPrediction.utils.common import read_yaml, create_directories\n",
    "from src.WineQualityPrediction.utils.my_logging import logger\n",
    "from src.WineQualityPrediction.utils.my_exception import CustomException"
   ]
  },
  {
   "cell_type": "code",
   "execution_count": 6,
   "metadata": {},
   "outputs": [],
   "source": [
    "class ConfigurationManager:\n",
    "    \"\"\"\n",
    "    Manages the configuration for the project by reading YAML files\n",
    "    and providing structured configurations.\n",
    "\n",
    "    Attributes:\n",
    "        config (ConfigBox): Parsed configuration file.\n",
    "        params (ConfigBox): Parsed parameters file.\n",
    "        schema (ConfigBox): Parsed schema file.\n",
    "    \"\"\"\n",
    "\n",
    "    def __init__(self,\n",
    "                 config_filepath: Path = CONFIG_FILE_PATH,\n",
    "                 params_filepath: Path = PARAMS_FILE_PATH,\n",
    "                 schema_filepath: Path = SCHEMA_FILE_PATH):\n",
    "        \"\"\"\n",
    "        Initializes the ConfigurationManager by loading YAML files and creating directories.\n",
    "\n",
    "        Args:\n",
    "            config_filepath (Path): Path to the main configuration file.\n",
    "            params_filepath (Path): Path to the parameters configuration file.\n",
    "            schema_filepath (Path): Path to the schema configuration file.\n",
    "        \"\"\"\n",
    "        self.config = read_yaml(config_filepath)\n",
    "        self.params = read_yaml(params_filepath)\n",
    "        self.schema = read_yaml(schema_filepath)\n",
    "\n",
    "        # Ensure the artifacts root directory exists\n",
    "        create_directories([self.config.artifacts_root])\n",
    "\n",
    "    def get_data_ingestion_config(self) -> DataIngestionConfig:\n",
    "        \"\"\"\n",
    "        Provides the configuration for the data ingestion component.\n",
    "\n",
    "        Returns:\n",
    "            DataIngestionConfig: Configuration object for data ingestion.\n",
    "        \"\"\"\n",
    "        config = self.config.data_ingestion\n",
    "        create_directories([config.root_dir])\n",
    "\n",
    "        data_ingestion_config = DataIngestionConfig(\n",
    "            root_dir=config.root_dir,\n",
    "            source_URL=config.source_URL,\n",
    "            local_data_file=config.local_data_file,\n",
    "            unzip_dir=config.unzip_dir\n",
    "        )\n",
    "        return data_ingestion_config\n"
   ]
  },
  {
   "cell_type": "code",
   "execution_count": 14,
   "metadata": {},
   "outputs": [],
   "source": [
    "import os\n",
    "import sys\n",
    "import urllib.request as request\n",
    "from src.WineQualityPrediction.utils.my_logging import logger\n",
    "import zipfile\n",
    "import logging"
   ]
  },
  {
   "cell_type": "code",
   "execution_count": 8,
   "metadata": {},
   "outputs": [],
   "source": [
    "log_path = 'log\\log_file.log'"
   ]
  },
  {
   "cell_type": "code",
   "execution_count": 11,
   "metadata": {},
   "outputs": [],
   "source": [
    "class DataIngestion:\n",
    "    \"\"\"\n",
    "    Handles the ingestion of data, including downloading and extracting files.\n",
    "\n",
    "    Attributes:\n",
    "        config (DataIngestionConfig): Configuration object containing paths and URLs.\n",
    "    \"\"\"\n",
    "\n",
    "    def __init__(self, config: DataIngestionConfig):\n",
    "        \"\"\"\n",
    "        Initializes the DataIngestion instance with configuration.\n",
    "\n",
    "        Args:\n",
    "            config (DataIngestionConfig): Configuration for data ingestion.\n",
    "        \"\"\"\n",
    "        self.config = config\n",
    "\n",
    "    def download_file(self) -> None:\n",
    "        \"\"\"\n",
    "        Downloads the file from the source URL to the local path if it doesn't already exist.\n",
    "        \"\"\"\n",
    "        try:\n",
    "            if not os.path.exists(self.config.local_data_file):\n",
    "                filename, headers = request.urlretrieve(\n",
    "                    url=self.config.source_URL,\n",
    "                    filename=self.config.local_data_file\n",
    "                )\n",
    "                logger(log_path,logging.INFO,f\"Downloaded file from {self.config.source_URL} to {filename}\")\n",
    "            else:\n",
    "                logger(log_path,logging.INFO,f\"File already exists at {self.config.local_data_file}\")\n",
    "        except Exception as e:\n",
    "            logger(log_path,logging.ERROR,f\"Error downloading file: {CustomException(e,sys)}\")\n",
    "            raise CustomException(e,sys)\n",
    "\n",
    "    def extract_zip_file(self) -> None:\n",
    "        \"\"\"\n",
    "        Extracts the ZIP file located at `self.config.local_data_file` \n",
    "        to the directory specified by `self.config.unzip_dir`.\n",
    "        \"\"\"\n",
    "        try:\n",
    "            unzip_path = self.config.unzip_dir\n",
    "            os.makedirs(unzip_path, exist_ok=True)\n",
    "            with zipfile.ZipFile(self.config.local_data_file, 'r') as zip_ref:\n",
    "                zip_ref.extractall(unzip_path)\n",
    "            logger(log_path,logging.INFO,f\"Extracted ZIP file to {unzip_path}\")\n",
    "        except zipfile.BadZipFile as e:\n",
    "            logger(log_path,logging.ERROR,f\"Error extracting the ZIP file: {CustomException(e,sys)}\")\n",
    "            raise CustomException(e,sys)\n",
    "        except Exception as e:\n",
    "            logger(log_path,logging.ERROR,f\"Error extracting the ZIP file: {CustomException(e,sys)}\")\n",
    "            raise CustomException(e,sys)\n"
   ]
  },
  {
   "cell_type": "code",
   "execution_count": 13,
   "metadata": {},
   "outputs": [
    {
     "name": "stderr",
     "output_type": "stream",
     "text": [
      "[2025-01-14 15:54:18] - INFO - Yaml file read successfully\n",
      "[2025-01-14 15:54:18] - INFO - Yaml file read successfully\n",
      "[2025-01-14 15:54:18] - INFO - Yaml file read successfully\n",
      "[2025-01-14 15:54:18] - INFO - Directory created at artifacts\n",
      "[2025-01-14 15:54:18] - INFO - Directory created at artifacts/data_ingestion\n",
      "[2025-01-14 15:54:19] - INFO - Downloaded file from https://github.com/krishnaik06/datasets/raw/refs/heads/main/winequality-data.zip to artifacts/data_ingestion/data.zip\n",
      "[2025-01-14 15:54:19] - INFO - Extracted ZIP file to artifacts/data_ingestion\n"
     ]
    }
   ],
   "source": [
    "try:\n",
    "    config=ConfigurationManager()\n",
    "    data_ingestion_config=config.get_data_ingestion_config()\n",
    "    data_ingestion=DataIngestion(config=data_ingestion_config)\n",
    "    data_ingestion.download_file()\n",
    "    data_ingestion.extract_zip_file()\n",
    "except Exception as e:\n",
    "    raise e"
   ]
  }
 ],
 "metadata": {
  "kernelspec": {
   "display_name": "Python 3",
   "language": "python",
   "name": "python3"
  },
  "language_info": {
   "codemirror_mode": {
    "name": "ipython",
    "version": 3
   },
   "file_extension": ".py",
   "mimetype": "text/x-python",
   "name": "python",
   "nbconvert_exporter": "python",
   "pygments_lexer": "ipython3",
   "version": "3.10.0"
  }
 },
 "nbformat": 4,
 "nbformat_minor": 2
}
