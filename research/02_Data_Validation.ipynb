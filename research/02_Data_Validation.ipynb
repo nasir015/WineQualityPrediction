{
 "cells": [
  {
   "cell_type": "code",
   "execution_count": 19,
   "metadata": {},
   "outputs": [],
   "source": [
    "import os"
   ]
  },
  {
   "cell_type": "code",
   "execution_count": 20,
   "metadata": {},
   "outputs": [
    {
     "data": {
      "text/plain": [
       "'e:\\\\Neoron\\\\Programming_Practice\\\\Machine_Learning_Project\\\\winequality_prediction'"
      ]
     },
     "execution_count": 20,
     "metadata": {},
     "output_type": "execute_result"
    }
   ],
   "source": [
    "%pwd"
   ]
  },
  {
   "cell_type": "code",
   "execution_count": 4,
   "metadata": {},
   "outputs": [
    {
     "data": {
      "text/plain": [
       "'e:\\\\Neoron\\\\Programming_Practice\\\\Machine_Learning_Project\\\\winequality_prediction'"
      ]
     },
     "execution_count": 4,
     "metadata": {},
     "output_type": "execute_result"
    }
   ],
   "source": [
    "os.chdir('../')\n",
    "%pwd"
   ]
  },
  {
   "cell_type": "code",
   "execution_count": 21,
   "metadata": {},
   "outputs": [],
   "source": [
    "from dataclasses import dataclass\n",
    "from pathlib import Path\n",
    "\n",
    "@dataclass\n",
    "class DataValidationConfig:\n",
    "    root_dir: Path \n",
    "    data_file: str\n",
    "    status_file: Path\n",
    "    all_schema: dict"
   ]
  },
  {
   "cell_type": "code",
   "execution_count": 22,
   "metadata": {},
   "outputs": [],
   "source": [
    "from src.WineQualityPrediction.constants import *\n",
    "from src.WineQualityPrediction.utils.common import read_yaml, create_directories\n",
    "from src.WineQualityPrediction.utils.my_logging import logger\n",
    "from src.WineQualityPrediction.utils.my_exception import CustomException"
   ]
  },
  {
   "cell_type": "code",
   "execution_count": 23,
   "metadata": {},
   "outputs": [],
   "source": [
    "class ConfigurationManager:\n",
    "    \"\"\"\n",
    "    Manages the configuration for the project by reading YAML files\n",
    "    and providing structured configurations.\n",
    "\n",
    "    Attributes:\n",
    "        config (ConfigBox): Parsed configuration file.\n",
    "        params (ConfigBox): Parsed parameters file.\n",
    "        schema (ConfigBox): Parsed schema file.\n",
    "    \"\"\"\n",
    "\n",
    "    def __init__(self,\n",
    "                 config_filepath: Path = CONFIG_FILE_PATH,\n",
    "                 params_filepath: Path = PARAMS_FILE_PATH,\n",
    "                 schema_filepath: Path = SCHEMA_FILE_PATH):\n",
    "        \n",
    "        \"\"\"\n",
    "        Initializes the ConfigurationManager by loading YAML files and creating directories.\n",
    "\n",
    "        Args:\n",
    "            config_filepath (Path): Path to the main configuration file.\n",
    "            params_filepath (Path): Path to the parameters configuration file.\n",
    "            schema_filepath (Path): Path to the schema configuration file.\n",
    "        \"\"\"\n",
    "        self.config = read_yaml(config_filepath)\n",
    "        self.params = read_yaml(params_filepath)\n",
    "        self.schema = read_yaml(schema_filepath)\n",
    "\n",
    "        create_directories([self.config.artifacts_root])\n",
    "\n",
    "\n",
    "    def get_data_validation_config(self) -> DataValidationConfig:\n",
    "        \"\"\"\n",
    "        Provides the configuration for the data validation component.\n",
    "\n",
    "        Returns:\n",
    "            DataValidationConfig: Configuration object for data validation.\n",
    "        \"\"\"\n",
    "        config = self.config.data_validation\n",
    "        schema = self.schema.COLUMNS\n",
    "\n",
    "        create_directories([config.root_dir])\n",
    "\n",
    "        data_validation_config = DataValidationConfig(\n",
    "            root_dir=config.root_dir,\n",
    "            data_file =config.data_file,\n",
    "            status_file=config.STATUS_FILE,\n",
    "            all_schema=schema\n",
    "        )\n",
    "        return data_validation_config"
   ]
  },
  {
   "cell_type": "code",
   "execution_count": 24,
   "metadata": {},
   "outputs": [],
   "source": [
    "import os\n",
    "import sys\n",
    "import logging\n",
    "import pandas as pd\n",
    "from typing import Optional\n",
    "from src.WineQualityPrediction.utils.my_logging import logger\n",
    "from src.WineQualityPrediction.utils.my_exception import CustomException"
   ]
  },
  {
   "cell_type": "code",
   "execution_count": 25,
   "metadata": {},
   "outputs": [],
   "source": [
    "log_path = 'log/log_file.log'"
   ]
  },
  {
   "cell_type": "code",
   "execution_count": 26,
   "metadata": {},
   "outputs": [],
   "source": [
    "class DataValidation:\n",
    "    \"\"\"\n",
    "    A class to validate data based on the provided schema.\n",
    "\n",
    "    Attributes:\n",
    "        config (DataValidationConfig): Configuration object containing paths and schema for validation.\n",
    "\n",
    "    Methods:\n",
    "        validate_all_columns() -> bool:\n",
    "            Validates all columns in the dataset against the predefined schema.\n",
    "\n",
    "    Raises:\n",
    "        Exception: Any exception raised during the validation process is re-raised for further handling.\n",
    "    \"\"\"\n",
    "\n",
    "    def __init__(self, config: DataValidationConfig):\n",
    "        \"\"\"\n",
    "        Initializes the DataValidation class with the given configuration.\n",
    "\n",
    "        Args:\n",
    "            config (DataValidationConfig): Configuration object with paths and schema.\n",
    "\n",
    "        Attributes:\n",
    "            config (DataValidationConfig): Stores the configuration for validation.\n",
    "        \"\"\"\n",
    "        self.config = config\n",
    "\n",
    "    def validate_all_columns(self) -> bool:\n",
    "        \"\"\"\n",
    "        Validates that all columns in the dataset match the predefined schema.\n",
    "\n",
    "        Reads the data from the specified CSV file, checks if all columns in the dataset \n",
    "        exist in the schema, and writes the validation status to a file.\n",
    "\n",
    "        Returns:\n",
    "            bool: True if all columns are valid, False otherwise.\n",
    "\n",
    "        Raises:\n",
    "            Exception: If there is an error during file reading or validation.\n",
    "\n",
    "        Workflow:\n",
    "            - Load the dataset from the provided path.\n",
    "            - Compare dataset columns against schema keys.\n",
    "            - Write the validation status (True/False) to the specified status file.\n",
    "        \"\"\"\n",
    "        try:\n",
    "            # Initialize validation status\n",
    "            validation_status: Optional[bool] = None\n",
    "            logger(log_path, logging.INFO, \"Data validation started...\")\n",
    "\n",
    "            # Read data from the provided CSV file\n",
    "            data = pd.read_csv(self.config.data_file)\n",
    "            logger(log_path, logging.INFO, \"Data loaded successfully...\")\n",
    "            all_cols = list(data.columns)\n",
    "\n",
    "            # Get all schema keys\n",
    "            all_schema = self.config.all_schema.keys()\n",
    "            logger(log_path, logging.INFO, \"Schema keys loaded successfully...\")\n",
    "\n",
    "            # Validate each column in the dataset\n",
    "            logger(log_path, logging.INFO, \"Column validation started...\")\n",
    "            for col in all_cols:\n",
    "                if col not in all_schema:\n",
    "                    validation_status = False\n",
    "                    with open(self.config.status_file, 'w') as f:\n",
    "                        f.write(f\"Validation status: {validation_status}\")\n",
    "                    break\n",
    "                else:\n",
    "                    validation_status = True\n",
    "\n",
    "            # Write the final status if all columns are valid\n",
    "            if validation_status:\n",
    "                with open(self.config.status_file, 'w') as f:\n",
    "                    f.write(f\"Validation status: {validation_status}\")\n",
    "            \n",
    "            logger(log_path, logging.INFO, \"Data validation completed successfully...\")\n",
    "\n",
    "            return validation_status\n",
    "\n",
    "        except Exception as e:\n",
    "            # Re-raise exception for external handling\n",
    "            logger(log_path, logging.ERROR, f\"Data validation failed: {CustomException(e,sys)}\")\n",
    "            raise CustomException(e,sys)"
   ]
  },
  {
   "cell_type": "code",
   "execution_count": 28,
   "metadata": {},
   "outputs": [
    {
     "name": "stderr",
     "output_type": "stream",
     "text": [
      "[2025-01-15 00:20:50] - INFO - Data validation script started...\n",
      "[2025-01-15 00:20:50] - INFO - Initializing ConfigurationManager.\n",
      "[2025-01-15 00:20:50] - INFO - Yaml file read successfully\n",
      "[2025-01-15 00:20:50] - INFO - Yaml file read successfully\n",
      "[2025-01-15 00:20:50] - INFO - Yaml file read successfully\n",
      "[2025-01-15 00:20:50] - INFO - Directory created at artifacts\n",
      "[2025-01-15 00:20:50] - INFO - Fetching data validation configuration.\n",
      "[2025-01-15 00:20:50] - INFO - Directory created at artifacts/data_validation\n",
      "[2025-01-15 00:20:50] - INFO - Initializing DataValidation.\n",
      "[2025-01-15 00:20:50] - INFO - Running data validation.\n",
      "[2025-01-15 00:20:50] - INFO - Data validation started...\n",
      "[2025-01-15 00:20:51] - INFO - Data loaded successfully...\n",
      "[2025-01-15 00:20:51] - INFO - Schema keys loaded successfully...\n",
      "[2025-01-15 00:20:51] - INFO - Column validation started...\n",
      "[2025-01-15 00:20:51] - INFO - Data validation completed successfully...\n",
      "[2025-01-15 00:20:51] - INFO - Data validation successful.\n"
     ]
    }
   ],
   "source": [
    "try:\n",
    "    logger(log_path, logging.INFO, \"Data validation script started...\")\n",
    "\n",
    "    # Step 1: Configuration setup\n",
    "    logger(log_path, logging.INFO, \"Initializing ConfigurationManager.\")\n",
    "    config_manager = ConfigurationManager()\n",
    "\n",
    "    # Step 2: Fetching data validation configuration\n",
    "    logger(log_path, logging.INFO, \"Fetching data validation configuration.\")\n",
    "    data_validation_config = config_manager.get_data_validation_config()\n",
    "\n",
    "    # Step 3: Performing data validation\n",
    "    logger(log_path, logging.INFO, \"Initializing DataValidation.\")\n",
    "    data_validation = DataValidation(config=data_validation_config)\n",
    "\n",
    "    # Step 4: Running data validation\n",
    "    logger(log_path, logging.INFO, \"Running data validation.\")\n",
    "    validation_status = data_validation.validate_all_columns()\n",
    "\n",
    "    if validation_status:\n",
    "        logger(log_path, logging.INFO, \"Data validation successful.\")\n",
    "    else:\n",
    "        logger(log_path, logging.ERROR, \"Data validation failed.\")\n",
    "\n",
    "except CustomException as custom_ex:\n",
    "    logger(log_path, logging.ERROR, f\"An unexpected error occurred: {CustomException(custom_ex,sys)}\")\n",
    "    raise CustomException(custom_ex,sys)  # Optionally, re-raise the exception for external handling\n",
    "except Exception as ex:\n",
    "    logger(log_path, logging.ERROR, f\"An unexpected error occurred: {CustomException(ex,sys)}\")\n",
    "    raise CustomException(ex,sys)  # Optionally, re-raise the exception for external handling"
   ]
  }
 ],
 "metadata": {
  "kernelspec": {
   "display_name": "Python 3",
   "language": "python",
   "name": "python3"
  },
  "language_info": {
   "codemirror_mode": {
    "name": "ipython",
    "version": 3
   },
   "file_extension": ".py",
   "mimetype": "text/x-python",
   "name": "python",
   "nbconvert_exporter": "python",
   "pygments_lexer": "ipython3",
   "version": "3.10.0"
  }
 },
 "nbformat": 4,
 "nbformat_minor": 2
}
