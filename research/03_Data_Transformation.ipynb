{
 "cells": [
  {
   "cell_type": "code",
   "execution_count": 1,
   "metadata": {},
   "outputs": [],
   "source": [
    "import os "
   ]
  },
  {
   "cell_type": "code",
   "execution_count": 3,
   "metadata": {},
   "outputs": [
    {
     "data": {
      "text/plain": [
       "'e:\\\\Neoron\\\\Programming_Practice\\\\Machine_Learning_Project\\\\winequality_prediction\\\\research'"
      ]
     },
     "execution_count": 3,
     "metadata": {},
     "output_type": "execute_result"
    }
   ],
   "source": [
    "%pwd"
   ]
  },
  {
   "cell_type": "code",
   "execution_count": 4,
   "metadata": {},
   "outputs": [],
   "source": [
    "os.chdir('../')"
   ]
  },
  {
   "cell_type": "code",
   "execution_count": 5,
   "metadata": {},
   "outputs": [
    {
     "data": {
      "text/plain": [
       "'e:\\\\Neoron\\\\Programming_Practice\\\\Machine_Learning_Project\\\\winequality_prediction'"
      ]
     },
     "execution_count": 5,
     "metadata": {},
     "output_type": "execute_result"
    }
   ],
   "source": [
    "%pwd"
   ]
  },
  {
   "cell_type": "code",
   "execution_count": 6,
   "metadata": {},
   "outputs": [],
   "source": [
    "from dataclasses import dataclass\n",
    "from pathlib import Path\n",
    "\n",
    "@dataclass\n",
    "class DataTransformationConfig:\n",
    "    root_dir: Path\n",
    "    data_path: Path"
   ]
  },
  {
   "cell_type": "code",
   "execution_count": 7,
   "metadata": {},
   "outputs": [],
   "source": [
    "from src.WineQualityPrediction.constants import *\n",
    "from src.WineQualityPrediction.utils.common import read_yaml, create_directories\n",
    "from src.WineQualityPrediction.utils.my_logging import logger\n",
    "from src.WineQualityPrediction.utils.my_exception import CustomException"
   ]
  },
  {
   "cell_type": "code",
   "execution_count": 8,
   "metadata": {},
   "outputs": [],
   "source": [
    "class ConfigurationManager:\n",
    "    \"\"\"\n",
    "    Manages the configuration for the project by reading YAML files\n",
    "    and providing structured configurations.\n",
    "\n",
    "    Attributes:\n",
    "        config (ConfigBox): Parsed configuration file.\n",
    "        params (ConfigBox): Parsed parameters file.\n",
    "        schema (ConfigBox): Parsed schema file.\n",
    "    \"\"\"\n",
    "\n",
    "    def __init__(self,\n",
    "                 config_filepath: Path = CONFIG_FILE_PATH,\n",
    "                 params_filepath: Path = PARAMS_FILE_PATH,\n",
    "                 schema_filepath: Path = SCHEMA_FILE_PATH):\n",
    "        \n",
    "        \"\"\"\n",
    "        Initializes the ConfigurationManager by loading YAML files and creating directories.\n",
    "\n",
    "        Args:\n",
    "            config_filepath (Path): Path to the main configuration file.\n",
    "            params_filepath (Path): Path to the parameters configuration file.\n",
    "            schema_filepath (Path): Path to the schema configuration file.\n",
    "        \"\"\"\n",
    "        self.config = read_yaml(config_filepath)\n",
    "        self.params = read_yaml(params_filepath)\n",
    "        self.schema = read_yaml(schema_filepath)\n",
    "\n",
    "        create_directories([self.config.artifacts_root])\n",
    "\n",
    "\n",
    "    def get_data_transformation_config(self) -> DataTransformationConfig:\n",
    "        \"\"\"\n",
    "        Provides the configuration for the data transformation component.\n",
    "\n",
    "        Returns:\n",
    "            DataTransformationConfig: Configuration object for data transformation.\n",
    "        \"\"\"\n",
    "        config = self.config.data_transformation\n",
    "\n",
    "        create_directories([config.root_dir])\n",
    "\n",
    "        data_transformation_config = DataTransformationConfig(\n",
    "            root_dir=config.root_dir,\n",
    "            data_path=config.data_path\n",
    "        )\n",
    "        return data_transformation_config"
   ]
  },
  {
   "cell_type": "code",
   "execution_count": 11,
   "metadata": {},
   "outputs": [],
   "source": [
    "import os\n",
    "import logging\n",
    "from src.WineQualityPrediction.utils.my_logging import logger\n",
    "from sklearn.model_selection import train_test_split\n",
    "import pandas as pd"
   ]
  },
  {
   "cell_type": "code",
   "execution_count": 10,
   "metadata": {},
   "outputs": [],
   "source": [
    "log_path = \"log\\log_file.log\""
   ]
  },
  {
   "cell_type": "code",
   "execution_count": 14,
   "metadata": {},
   "outputs": [],
   "source": [
    "class DataTransformation:\n",
    "    def __init__(self, config: DataTransformationConfig):\n",
    "        \"\"\"\n",
    "        Initializes the DataTransformation instance with the provided configuration.\n",
    "        \n",
    "        Args:\n",
    "            config (DataTransformationConfig): Configuration object containing paths\n",
    "                                                and other parameters for data transformation.\n",
    "        \"\"\"\n",
    "        self.config = config\n",
    "\n",
    "    \n",
    "    ## Note: You can add different data transformation techniques such as Scaler, PCA and all\n",
    "    #You can perform all kinds of EDA in ML cycle here before passing this data to the model\n",
    "\n",
    "    # I am only adding train_test_spliting cz this data is already cleaned up\n",
    "\n",
    "\n",
    "    def train_test_spliting(self):\n",
    "        logger(log_path,logging.INFO,\"Train Test Splitting Started....\")\n",
    "        \"\"\"\n",
    "        Splits the dataset into training and testing sets (75% train, 25% test).\n",
    "        Saves the resulting dataframes as CSV files in the specified directory.\n",
    "        \n",
    "        - Loads the dataset from the path defined in `config.data_path`.\n",
    "        - Splits the data into training and testing sets.\n",
    "        - Saves the resulting sets as `train.csv` and `test.csv` in the root directory defined in `config.root_dir`.\n",
    "        \n",
    "        Logs the shape of the train and test datasets and prints it to the console.\n",
    "        \"\"\"\n",
    "        data = pd.read_csv(self.config.data_path)\n",
    "        logger(log_path,logging.INFO,\"Data Loaded Successfully....\")\n",
    "\n",
    "        # Split the data into training and test sets. (0.75, 0.25) split.\n",
    "        train, test = train_test_split(data)\n",
    "        logger(log_path,logging.INFO,\"Data Split Successfully....\")\n",
    "\n",
    "        train.to_csv(os.path.join(self.config.root_dir, \"train.csv\"),index = False)\n",
    "        test.to_csv(os.path.join(self.config.root_dir, \"test.csv\"),index = False)\n",
    "        logger(log_path,logging.INFO,\"Data Saved Successfully....\")\n",
    "        \n",
    "        logger(log_path,logging.INFO,f'test shape is {test.shape}')\n",
    "        logger(log_path,logging.INFO,f'train shape is {train.shape}')\n",
    "\n",
    "        print(train.shape)\n",
    "        print(test.shape)"
   ]
  },
  {
   "cell_type": "code",
   "execution_count": 15,
   "metadata": {},
   "outputs": [
    {
     "name": "stderr",
     "output_type": "stream",
     "text": [
      "[2025-01-15 02:38:42] - INFO - Yaml file read successfully\n",
      "[2025-01-15 02:38:42] - INFO - Yaml file read successfully\n",
      "[2025-01-15 02:38:42] - INFO - Yaml file read successfully\n",
      "[2025-01-15 02:38:42] - INFO - Directory created at artifacts\n",
      "[2025-01-15 02:38:42] - INFO - Directory created at artifacts/data_transformation\n",
      "[2025-01-15 02:38:42] - INFO - Train Test Splitting Started....\n",
      "[2025-01-15 02:38:42] - INFO - Data Loaded Successfully....\n",
      "[2025-01-15 02:38:42] - INFO - Data Split Successfully....\n",
      "[2025-01-15 02:38:42] - INFO - Data Saved Successfully....\n",
      "[2025-01-15 02:38:42] - INFO - test shape is (400, 12)\n",
      "[2025-01-15 02:38:42] - INFO - train shape is (1199, 12)\n"
     ]
    },
    {
     "name": "stdout",
     "output_type": "stream",
     "text": [
      "(1199, 12)\n",
      "(400, 12)\n"
     ]
    }
   ],
   "source": [
    "try:\n",
    "    config = ConfigurationManager()\n",
    "    data_transformation_config = config.get_data_transformation_config()\n",
    "    data_transformation = DataTransformation(config=data_transformation_config)\n",
    "    data_transformation.train_test_spliting()\n",
    "except Exception as e:\n",
    "    raise e"
   ]
  }
 ],
 "metadata": {
  "kernelspec": {
   "display_name": "Python 3",
   "language": "python",
   "name": "python3"
  },
  "language_info": {
   "codemirror_mode": {
    "name": "ipython",
    "version": 3
   },
   "file_extension": ".py",
   "mimetype": "text/x-python",
   "name": "python",
   "nbconvert_exporter": "python",
   "pygments_lexer": "ipython3",
   "version": "3.10.0"
  }
 },
 "nbformat": 4,
 "nbformat_minor": 2
}
