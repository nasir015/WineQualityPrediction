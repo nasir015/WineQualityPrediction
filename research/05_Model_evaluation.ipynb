{
 "cells": [
  {
   "cell_type": "code",
   "execution_count": 1,
   "metadata": {},
   "outputs": [],
   "source": [
    "import os"
   ]
  },
  {
   "cell_type": "code",
   "execution_count": 2,
   "metadata": {},
   "outputs": [
    {
     "data": {
      "text/plain": [
       "'e:\\\\Neoron\\\\Programming_Practice\\\\Machine_Learning_Project\\\\winequality_prediction\\\\research'"
      ]
     },
     "execution_count": 2,
     "metadata": {},
     "output_type": "execute_result"
    }
   ],
   "source": [
    "%pwd"
   ]
  },
  {
   "cell_type": "code",
   "execution_count": 3,
   "metadata": {},
   "outputs": [],
   "source": [
    "os.chdir('../')"
   ]
  },
  {
   "cell_type": "code",
   "execution_count": 4,
   "metadata": {},
   "outputs": [
    {
     "data": {
      "text/plain": [
       "'e:\\\\Neoron\\\\Programming_Practice\\\\Machine_Learning_Project\\\\winequality_prediction'"
      ]
     },
     "execution_count": 4,
     "metadata": {},
     "output_type": "execute_result"
    }
   ],
   "source": [
    "%pwd"
   ]
  },
  {
   "cell_type": "code",
   "execution_count": 5,
   "metadata": {},
   "outputs": [],
   "source": [
    "from dataclasses import dataclass\n",
    "from pathlib import Path\n",
    "\n",
    "\n",
    "@dataclass\n",
    "class ModelEvaluationConfig:\n",
    "    root_dir: Path\n",
    "    test_data_path: Path\n",
    "    model_path: Path\n",
    "    all_params: dict\n",
    "    metric_file_name: str\n",
    "    target_column: str\n",
    "    mlflow_uri: str"
   ]
  },
  {
   "cell_type": "code",
   "execution_count": 6,
   "metadata": {},
   "outputs": [
    {
     "data": {
      "text/plain": [
       "'os.environ[\"MLFLOW_TRACKING_URI\"]=\"https://dagshub.com/nasir.uddin.6314/WineQualityPrediction.mlflow\"\\nos.environ[\"MLFLOW_TRACKING_USERNAME\"]=\"nasir.uddin.6314\"\\nos.environ[\"MLFLOW_TRACKING_PASSWORD\"]=\"026054fecb7c525dea65edc373c6935c9a1332fc \"'"
      ]
     },
     "execution_count": 6,
     "metadata": {},
     "output_type": "execute_result"
    }
   ],
   "source": [
    "'''os.environ[\"MLFLOW_TRACKING_URI\"]=\"https://dagshub.com/nasir.uddin.6314/WineQualityPrediction.mlflow\"\n",
    "os.environ[\"MLFLOW_TRACKING_USERNAME\"]=\"nasir.uddin.6314\"\n",
    "os.environ[\"MLFLOW_TRACKING_PASSWORD\"]=\"026054fecb7c525dea65edc373c6935c9a1332fc \"'''"
   ]
  },
  {
   "cell_type": "code",
   "execution_count": 7,
   "metadata": {},
   "outputs": [],
   "source": [
    "from src.WineQualityPrediction.constants import *\n",
    "from src.WineQualityPrediction.utils.common import read_yaml, create_directories\n",
    "from src.WineQualityPrediction.utils.my_logging import logger\n",
    "from src.WineQualityPrediction.utils.my_exception import CustomException"
   ]
  },
  {
   "cell_type": "code",
   "execution_count": 8,
   "metadata": {},
   "outputs": [],
   "source": [
    "class ConfigurationManager:\n",
    "    \"\"\"\n",
    "    Manages the configuration for the project by reading YAML files\n",
    "    and providing structured configurations.\n",
    "\n",
    "    Attributes:\n",
    "        config (ConfigBox): Parsed configuration file.\n",
    "        params (ConfigBox): Parsed parameters file.\n",
    "        schema (ConfigBox): Parsed schema file.\n",
    "    \"\"\"\n",
    "\n",
    "    def __init__(self,\n",
    "                 config_filepath: Path = CONFIG_FILE_PATH,\n",
    "                 params_filepath: Path = PARAMS_FILE_PATH,\n",
    "                 schema_filepath: Path = SCHEMA_FILE_PATH):\n",
    "        \n",
    "        \"\"\"\n",
    "        Initializes the ConfigurationManager by loading YAML files and creating directories.\n",
    "\n",
    "        Args:\n",
    "            config_filepath (Path): Path to the main configuration file.\n",
    "            params_filepath (Path): Path to the parameters configuration file.\n",
    "            schema_filepath (Path): Path to the schema configuration file.\n",
    "        \"\"\"\n",
    "        self.config = read_yaml(config_filepath)\n",
    "        self.params = read_yaml(params_filepath)\n",
    "        self.schema = read_yaml(schema_filepath)\n",
    "\n",
    "        create_directories([self.config.artifacts_root])\n",
    "    def get_model_evaluation_config(self) -> ModelEvaluationConfig:\n",
    "        config=self.config.model_evaluation\n",
    "        params=self.params.ElasticNet\n",
    "        schema=self.schema.TARGET_COLUMN\n",
    "\n",
    "        create_directories([config.root_dir])\n",
    "\n",
    "        model_evaluation_config=ModelEvaluationConfig(\n",
    "            root_dir=config.root_dir,\n",
    "            test_data_path=config.test_data_path,\n",
    "            model_path = config.model_path,\n",
    "            all_params=params,\n",
    "            metric_file_name = config.metric_file_name,\n",
    "            target_column = schema.name,\n",
    "            mlflow_uri=\"https://dagshub.com/nasir.uddin.6314/WineQualityPrediction.mlflow\"\n",
    "\n",
    "\n",
    "        )\n",
    "        return model_evaluation_config    \n"
   ]
  },
  {
   "cell_type": "code",
   "execution_count": 9,
   "metadata": {},
   "outputs": [],
   "source": [
    "import os\n",
    "import pandas as pd\n",
    "from sklearn.metrics import mean_squared_error, mean_absolute_error, r2_score\n",
    "from src.WineQualityPrediction.utils.common import *\n",
    "from urllib.parse import urlparse\n",
    "import mlflow\n",
    "import mlflow.sklearn\n",
    "import numpy as np\n",
    "import joblib\n",
    "from typing import Dict"
   ]
  },
  {
   "cell_type": "code",
   "execution_count": 10,
   "metadata": {},
   "outputs": [],
   "source": [
    "class ModelEvaluation:\n",
    "    \"\"\"\n",
    "    Initializes the ModelEvaluation class with a given configuration.\n",
    "\n",
    "    Parameters:\n",
    "        config (ModelEvaluationConfig): An object containing configuration parameters \n",
    "                                        for model evaluation, including paths for data, \n",
    "                                        model, MLflow URI, and metric file storage.\n",
    "    \"\"\"    \n",
    "    def __init__(self, config: ModelEvaluationConfig):\n",
    "        self.config = config\n",
    "\n",
    "    \n",
    "    \n",
    "    \n",
    "    def eval_metrics(self,actual, pred):\n",
    "        \"\"\"\n",
    "        Calculates evaluation metrics for the model predictions.\n",
    "\n",
    "        Parameters:\n",
    "            actual (array-like): Ground truth target values.\n",
    "            pred (array-like): Predicted target values from the model.\n",
    "\n",
    "        Returns:\n",
    "            tuple: A tuple containing:\n",
    "                - `rmse` (float): Root Mean Squared Error.\n",
    "                - `mae` (float): Mean Absolute Error.\n",
    "                - `r2` (float): R-squared score.\n",
    "\n",
    "        Dependencies:\n",
    "            - numpy: Used for mathematical calculations (e.g., square root).\n",
    "            - sklearn.metrics: For calculating regression metrics.\n",
    "        \"\"\"        \n",
    "        \n",
    "        rmse = np.sqrt(mean_squared_error(actual, pred))\n",
    "        mae = mean_absolute_error(actual, pred)\n",
    "        r2 = r2_score(actual, pred)\n",
    "        return rmse, mae, r2\n",
    "    \n",
    "    \n",
    "    \n",
    "    \n",
    "    def log_into_mlflow(self):\n",
    "        \"\"\"\n",
    "        Logs evaluation metrics and model details into MLflow and optionally registers the model.\n",
    "        This method sets up MLflow tracking and authenticates using environment variables.\n",
    "        \"\"\"\n",
    "        # Set MLflow tracking environment variables\n",
    "        os.environ[\"MLFLOW_TRACKING_URI\"] = \"https://dagshub.com/nasir.uddin.6314/WineQualityPrediction.mlflow\"\n",
    "        os.environ[\"MLFLOW_TRACKING_USERNAME\"] = \"nasir.uddin.6314\"\n",
    "        os.environ[\"MLFLOW_TRACKING_PASSWORD\"] = \"026054fecb7c525dea65edc373c6935c9a1332fc\"\n",
    "\n",
    "        # Configure MLflow registry URI\n",
    "        mlflow.set_registry_uri(os.getenv(\"MLFLOW_TRACKING_URI\"))\n",
    "        tracking_url_type_store = urlparse(mlflow.get_tracking_uri()).scheme\n",
    "\n",
    "        # Load test data and model\n",
    "        test_data = pd.read_csv(self.config.test_data_path)\n",
    "        model = joblib.load(self.config.model_path)\n",
    "\n",
    "        # Split test data into features (X) and target (Y)\n",
    "        test_x = test_data.drop(columns=[self.config.target_column], axis=1)\n",
    "        test_y = test_data[self.config.target_column]\n",
    "\n",
    "        # Start an MLflow run\n",
    "        with mlflow.start_run(run_name=\"ModelEvaluationRun\"):\n",
    "            # Predict target values using the loaded model\n",
    "            predicted_qualities = model.predict(test_x)\n",
    "\n",
    "            # Evaluate metrics\n",
    "            rmse, mae, r2 = self.eval_metrics(test_y, predicted_qualities)\n",
    "\n",
    "            # Save evaluation metrics locally\n",
    "            scores = {\"rmse\": rmse, \"mae\": mae, \"r2\": r2}\n",
    "            # save this score as a json file \n",
    "            save_json(self.config.metric_file_name, scores)\n",
    "\n",
    "            # Log parameters and metrics into MLflow\n",
    "            mlflow.log_params(self.config.all_params)\n",
    "            mlflow.log_metric(\"rmse\", rmse)\n",
    "            mlflow.log_metric(\"mae\", mae)\n",
    "            mlflow.log_metric(\"r2\", r2)\n",
    "\n",
    "            # Log and optionally register the model\n",
    "            if tracking_url_type_store != \"file\":\n",
    "                # Register the model if the tracking store supports it\n",
    "                mlflow.sklearn.log_model(model, \"model\", registered_model_name=\"ElasticnetModel\")\n",
    "            else:\n",
    "                # Log the model without registering\n",
    "                mlflow.sklearn.log_model(model, \"model\")\n",
    "\n",
    "            print(\"Model evaluation metrics and model details logged successfully.\")\n"
   ]
  },
  {
   "cell_type": "code",
   "execution_count": 11,
   "metadata": {},
   "outputs": [
    {
     "name": "stderr",
     "output_type": "stream",
     "text": [
      "[2025-01-15 19:30:18] - INFO - Yaml file read successfully\n",
      "[2025-01-15 19:30:18] - INFO - Yaml file read successfully\n",
      "[2025-01-15 19:30:18] - INFO - Yaml file read successfully\n",
      "[2025-01-15 19:30:18] - INFO - Directory created at artifacts\n",
      "[2025-01-15 19:30:18] - INFO - Directory created at artifacts/model_evaluation\n",
      "[2025-01-15 19:30:19] - INFO - JSON data saved to artifacts/model_evaluation/metrics.json\n",
      "2025/01/15 19:30:30 WARNING mlflow.models.model: Model logged without a signature and input example. Please set `input_example` parameter when logging the model to auto infer the model signature.\n",
      "Registered model 'ElasticnetModel' already exists. Creating a new version of this model...\n",
      "2025/01/15 19:30:35 INFO mlflow.store.model_registry.abstract_store: Waiting up to 300 seconds for model version to finish creation. Model name: ElasticnetModel, version 3\n",
      "Created version '3' of model 'ElasticnetModel'.\n"
     ]
    },
    {
     "name": "stdout",
     "output_type": "stream",
     "text": [
      "Model evaluation metrics and model details logged successfully.\n",
      "🏃 View run ModelEvaluationRun at: https://dagshub.com/nasir.uddin.6314/WineQualityPrediction.mlflow/#/experiments/0/runs/c9e481ae5d7a4461908a97bea0a2d809\n",
      "🧪 View experiment at: https://dagshub.com/nasir.uddin.6314/WineQualityPrediction.mlflow/#/experiments/0\n"
     ]
    }
   ],
   "source": [
    "try: \n",
    "    config_manager = ConfigurationManager()\n",
    "    model_evaluation_config = config_manager.get_model_evaluation_config()\n",
    "    model_evaluation = ModelEvaluation(model_evaluation_config)\n",
    "    model_evaluation.log_into_mlflow()\n",
    "except CustomException as e:\n",
    "    raise e"
   ]
  }
 ],
 "metadata": {
  "kernelspec": {
   "display_name": "Python 3",
   "language": "python",
   "name": "python3"
  },
  "language_info": {
   "codemirror_mode": {
    "name": "ipython",
    "version": 3
   },
   "file_extension": ".py",
   "mimetype": "text/x-python",
   "name": "python",
   "nbconvert_exporter": "python",
   "pygments_lexer": "ipython3",
   "version": "3.10.0"
  }
 },
 "nbformat": 4,
 "nbformat_minor": 2
}
